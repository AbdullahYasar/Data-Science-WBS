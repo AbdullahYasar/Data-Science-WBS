import random

y_data = [random.randint(-5, 5) for _ in range(50)]
y_data = [sum(y_data[:i+1]) for i in range(len(y_data))]
 
y_data