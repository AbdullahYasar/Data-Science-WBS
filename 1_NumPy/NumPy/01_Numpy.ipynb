{
 "cells": [
  {
   "cell_type": "markdown",
   "metadata": {},
   "source": [
    "# Numpy\n",
    "\n",
    "> pip install numpy"
   ]
  },
  {
   "cell_type": "code",
   "execution_count": 1,
   "metadata": {
    "ExecuteTime": {
     "end_time": "2024-02-21T12:12:55.897446100Z",
     "start_time": "2024-02-21T12:12:55.399266800Z"
    }
   },
   "outputs": [],
   "source": [
    "import sys\n",
    "import time\n",
    "import numpy as np"
   ]
  },
  {
   "cell_type": "markdown",
   "metadata": {},
   "source": [
    "# Compare native python list and numpy"
   ]
  },
  {
   "cell_type": "markdown",
   "metadata": {},
   "source": [
    "## 1. Memory Size"
   ]
  },
  {
   "cell_type": "code",
   "execution_count": 2,
   "metadata": {
    "ExecuteTime": {
     "end_time": "2024-02-21T12:13:00.691109900Z",
     "start_time": "2024-02-21T12:13:00.632405300Z"
    }
   },
   "outputs": [
    {
     "name": "stdout",
     "output_type": "stream",
     "text": [
      "2800\n",
      "400\n"
     ]
    }
   ],
   "source": [
    "SIZE = 100 \n",
    "\n",
    "mylist = list(range(100))\n",
    "\n",
    "\n",
    "# Native Python \n",
    "print(sys.getsizeof(1) * SIZE)\n",
    "\n",
    "\n",
    "# Numpy Array\n",
    "numpy_array = np.array(SIZE)\n",
    "print(numpy_array.itemsize * SIZE) # 400 bytes --> 4x Bytes pro Integer"
   ]
  },
  {
   "cell_type": "markdown",
   "metadata": {},
   "source": [
    "## 2. Execution Time"
   ]
  },
  {
   "cell_type": "code",
   "execution_count": 9,
   "metadata": {},
   "outputs": [
    {
     "name": "stdout",
     "output_type": "stream",
     "text": [
      "Time:  140.95330238342285\n"
     ]
    }
   ],
   "source": [
    "SIZE = 1000000\n",
    "\n",
    "mylist1 = range(SIZE)\n",
    "mylist2 = range(SIZE)\n",
    "\n",
    "start = time.time()\n",
    "result =  [(x+y) for x,y in zip(mylist1, mylist2)]\n",
    "end = time.time()\n",
    "\n",
    "print(\"Time: \",  (end-start) * 1000)"
   ]
  },
  {
   "cell_type": "code",
   "execution_count": 10,
   "metadata": {},
   "outputs": [
    {
     "name": "stdout",
     "output_type": "stream",
     "text": [
      "Time:  13.994216918945312\n"
     ]
    }
   ],
   "source": [
    "SIZE = 1000000\n",
    "array1 = np.arange(SIZE)\n",
    "array2 = np.arange(SIZE)\n",
    "\n",
    "start = time.time()\n",
    "result = array1  + array2 \n",
    "end = time.time()\n",
    "\n",
    "print(\"Time: \",  (end-start) * 1000)"
   ]
  },
  {
   "cell_type": "markdown",
   "metadata": {},
   "source": [
    "# Define Arrays"
   ]
  },
  {
   "cell_type": "code",
   "execution_count": 14,
   "metadata": {},
   "outputs": [
    {
     "name": "stdout",
     "output_type": "stream",
     "text": [
      "[1, 2, 3, 4, 5] <class 'list'>\n",
      "[1 2 3 4 5] <class 'numpy.ndarray'>\n",
      "[1 2 3 4 5] <class 'numpy.ndarray'>\n",
      "[[1 2]\n",
      " [3 4]]\n"
     ]
    }
   ],
   "source": [
    "mylist = [ 1 , 2 ,3 ,4 ,5]\n",
    "print(mylist, type(mylist))\n",
    "\n",
    "\n",
    "array = np.array(mylist)\n",
    "print(array, type(array))\n",
    "\n",
    "\n",
    "array1 = np.array( [ 1 , 2 ,3 ,4 ,5])\n",
    "print(array1, type(array1))\n",
    "\n",
    "\n",
    "# define a multi-deminsional array\n",
    "array2 = np.array([ [1, 2], [3,4]])\n",
    "print(array2)"
   ]
  },
  {
   "cell_type": "code",
   "execution_count": 16,
   "metadata": {},
   "outputs": [
    {
     "name": "stdout",
     "output_type": "stream",
     "text": [
      "[1. 2. 3. 4. 5.]\n",
      "[1 2 3 4 5]\n"
     ]
    }
   ],
   "source": [
    "# Define with specific data type\n",
    "array_1 = np.array([1,2,3,4,5], dtype = np.float64 )\n",
    "print(array_1)\n",
    "\n",
    "array_1 = np.array([1,2,3,4,5], dtype = np.int32 )\n",
    "print(array_1)"
   ]
  },
  {
   "cell_type": "markdown",
   "metadata": {},
   "source": [
    "# Array Information"
   ]
  },
  {
   "cell_type": "code",
   "execution_count": null,
   "metadata": {},
   "outputs": [],
   "source": []
  },
  {
   "cell_type": "code",
   "execution_count": 23,
   "metadata": {},
   "outputs": [
    {
     "name": "stdout",
     "output_type": "stream",
     "text": [
      "[1 2 3 4 5]\n",
      "(5,)\n",
      "1\n",
      "5\n",
      "int32\n",
      "4\n"
     ]
    }
   ],
   "source": [
    "array_1 = np.array([1,2,3,4,5])\n",
    "print(array_1)\n",
    "\n",
    "print(array_1.shape)\n",
    "print(array_1.ndim)\n",
    "print(array_1.size) # 5x items\n",
    "print(array_1.dtype) # 5x items\n",
    "print(array_1.itemsize) # 4x bytes for each item"
   ]
  },
  {
   "cell_type": "code",
   "execution_count": 28,
   "metadata": {},
   "outputs": [
    {
     "name": "stdout",
     "output_type": "stream",
     "text": [
      "(2, 2)\n",
      "2\n",
      "4\n",
      "float64\n",
      "8\n"
     ]
    }
   ],
   "source": [
    "# define a multi-deminsional array\n",
    "array_2 = np.array([ [1.1, 2.2], [3.3, 4.4]])\n",
    "print(array_2.shape)\n",
    "print(array_2.ndim)\n",
    "print(array_2.size)\n",
    "print(array_2.dtype)\n",
    "print(array_2.itemsize)\n"
   ]
  },
  {
   "cell_type": "markdown",
   "metadata": {},
   "source": [
    "# Mathematical Operations"
   ]
  },
  {
   "cell_type": "code",
   "execution_count": 30,
   "metadata": {},
   "outputs": [
    {
     "name": "stdout",
     "output_type": "stream",
     "text": [
      "[ 0  2  4  6  8 10 12 14 16 18]\n",
      "[0 0 0 0 0 0 0 0 0 0]\n",
      "[ 0  1  4  9 16 25 36 49 64 81]\n",
      "[nan  1.  1.  1.  1.  1.  1.  1.  1.  1.]\n",
      "\n",
      "[0.         1.         1.41421356 1.73205081 2.         2.23606798\n",
      " 2.44948974 2.64575131 2.82842712 3.        ]\n"
     ]
    },
    {
     "name": "stderr",
     "output_type": "stream",
     "text": [
      "C:\\Users\\MD\\AppData\\Local\\Temp\\ipykernel_20176\\1376260262.py:8: RuntimeWarning: invalid value encountered in divide\n",
      "  print(a / b)\n"
     ]
    }
   ],
   "source": [
    "a = np.arange(10) # 0->9\n",
    "b = np.arange(10) # 0->9\n",
    "\n",
    "\n",
    "print(a + b)\n",
    "print(a - b)\n",
    "print(a * b)\n",
    "print(a / b)\n",
    "\n",
    "print()\n",
    "\n",
    "\n",
    "print(np.sqrt(a))"
   ]
  },
  {
   "cell_type": "markdown",
   "metadata": {},
   "source": [
    "# Functions"
   ]
  },
  {
   "cell_type": "code",
   "execution_count": 36,
   "metadata": {},
   "outputs": [
    {
     "name": "stdout",
     "output_type": "stream",
     "text": [
      "0\n",
      "9\n",
      "4.5\n",
      "45\n",
      "21\n",
      "[ 9 12]\n",
      "[ 3  7 11]\n",
      "[1 3 3 5 8 9]\n",
      "[5.   3.3  2.12]\n"
     ]
    }
   ],
   "source": [
    "a = np.arange(10) # 0->9\n",
    "b = np.arange(10) # 0->9\n",
    "c = np.array([ [ 1, 2], [3,4], [5,6]])\n",
    "\n",
    "# Array Methods\n",
    "print(a.min())\n",
    "print(a.max())\n",
    "print(a.mean())\n",
    "print(a.sum())\n",
    "\n",
    "print(c.sum()) # 1 + 2 + 3 + 4 + 5 + 6  \n",
    "\n",
    "\n",
    "\"\"\" \n",
    "axis = 0 : columns\n",
    "axis = 1 : rows\n",
    "\"\"\"\n",
    "print(c.sum(axis= 0))  # over the columns\n",
    "print(c.sum(axis= 1))  # over the rows\n",
    "\n",
    "\n",
    "# Sorting\n",
    "a = np.array([5,3,8,1,9,3])\n",
    "\n",
    "a.sort()\n",
    "print(a)\n",
    "\n",
    "\n",
    "# Rounding\n",
    "a = np.array([5.0, 3.3, 2.123])\n",
    "print(a.round(decimals= 2))"
   ]
  },
  {
   "cell_type": "markdown",
   "metadata": {},
   "source": [
    "# Accessing Items -> Slicing"
   ]
  },
  {
   "cell_type": "code",
   "execution_count": 107,
   "metadata": {},
   "outputs": [
    {
     "name": "stdout",
     "output_type": "stream",
     "text": [
      "(3, 2)\n",
      "[1 2]\n",
      "[5 6]\n",
      "[[1 2]\n",
      " [3 4]]\n",
      "4\n",
      "\n",
      "[[1 2]\n",
      " [3 4]\n",
      " [5 6]]\n",
      "\n",
      "[[2]\n",
      " [4]]\n",
      "[[1 2]\n",
      " [3 4]]\n"
     ]
    }
   ],
   "source": [
    "c = np.array([ [ 1, 2], [3,4], [5,6]])\n",
    "\n",
    "print(c.shape) # 3x rows, 2xcolumns\n",
    "\n",
    "print(c[0]) # [1 2]\n",
    "print(c[2]) # [5 6]\n",
    "\n",
    "print(c[0:2]) # \n",
    "\n",
    "# Access Specific Item\n",
    "print(c[1,1]) # #  \n",
    "\n",
    "# Range\n",
    "print()\n",
    "print(c)\n",
    "print()\n",
    "print(c[0:2, 1:2])\n",
    "print(c[0:2, 0:2])\n"
   ]
  },
  {
   "cell_type": "markdown",
   "metadata": {},
   "source": [
    "# Generate Data"
   ]
  },
  {
   "cell_type": "code",
   "execution_count": 50,
   "metadata": {},
   "outputs": [
    {
     "name": "stdout",
     "output_type": "stream",
     "text": [
      "[ 0  1  2  3  4  5  6  7  8  9 10 11 12 13 14 15 16 17 18 19 20 21 22 23\n",
      " 24 25 26 27 28 29]\n",
      "[10 11 12 13 14 15 16 17 18 19 20 21 22 23 24 25 26 27 28 29]\n",
      "[[0. 0. 0. 0.]\n",
      " [0. 0. 0. 0.]\n",
      " [0. 0. 0. 0.]]\n",
      "[[1. 1. 1. 1.]\n",
      " [1. 1. 1. 1.]\n",
      " [1. 1. 1. 1.]]\n",
      "[1.         1.08163265 1.16326531 1.24489796 1.32653061 1.40816327\n",
      " 1.48979592 1.57142857 1.65306122 1.73469388 1.81632653 1.89795918\n",
      " 1.97959184 2.06122449 2.14285714 2.2244898  2.30612245 2.3877551\n",
      " 2.46938776 2.55102041 2.63265306 2.71428571 2.79591837 2.87755102\n",
      " 2.95918367 3.04081633 3.12244898 3.20408163 3.28571429 3.36734694\n",
      " 3.44897959 3.53061224 3.6122449  3.69387755 3.7755102  3.85714286\n",
      " 3.93877551 4.02040816 4.10204082 4.18367347 4.26530612 4.34693878\n",
      " 4.42857143 4.51020408 4.59183673 4.67346939 4.75510204 4.83673469\n",
      " 4.91836735 5.        ]\n",
      "[[5 5 5]\n",
      " [5 5 5]]\n",
      "[[5]\n",
      " [5]\n",
      " [5]\n",
      " [5]\n",
      " [5]\n",
      " [5]]\n"
     ]
    }
   ],
   "source": [
    "a = np.arange(30)\n",
    "b = np.arange(10,30)\n",
    "\n",
    "\n",
    "print(a)\n",
    "print(b)\n",
    "\n",
    "zeros = np.zeros((3, 4))\n",
    "print(zeros)\n",
    "\n",
    "ones = np.ones((3, 4))\n",
    "print(ones)\n",
    "\n",
    "numbers = np.linspace(1, 5, 50) # 50x numbers between 1 and 5, equally spaced\n",
    "print(numbers)\n",
    "\n",
    "\n",
    "numbers2 = np.full((2,3) ,   5)\n",
    "print(numbers2)\n",
    "\n",
    "\n",
    "numbers2 = np.full((6, ) ,   5)\n",
    "print(numbers2)"
   ]
  },
  {
   "cell_type": "markdown",
   "metadata": {},
   "source": [
    "# Reshaping"
   ]
  },
  {
   "cell_type": "code",
   "execution_count": 57,
   "metadata": {},
   "outputs": [
    {
     "name": "stdout",
     "output_type": "stream",
     "text": [
      "Brfore Reshaping:\n",
      "(3, 2)\n",
      "After Reshaping 2x3:\n",
      "(2, 3)\n",
      "[[1 2 3]\n",
      " [4 5 6]]\n",
      "After Reshaping 6x1:\n",
      "(6, 1)\n",
      "[[1]\n",
      " [2]\n",
      " [3]\n",
      " [4]\n",
      " [5]\n",
      " [6]]\n",
      "After Reshaping 6, :\n",
      "(6,)\n",
      "[1 2 3 4 5 6]\n"
     ]
    }
   ],
   "source": [
    "a = np.array( [\n",
    "                [1,2],\n",
    "                [3,4],\n",
    "                [5,6]\n",
    "              ]  \n",
    "            )\n",
    "\n",
    "print(\"Brfore Reshaping:\")\n",
    "print(a.shape)\n",
    "\n",
    "\n",
    "# 1. Reshape to 2x3 \n",
    "b = a.reshape(2,3)\n",
    "\n",
    "print(\"After Reshaping 2x3:\")\n",
    "print(b.shape)\n",
    "print(b)\n",
    "\n",
    "\n",
    "# 2. Reshape to 6x1\n",
    "c = a.reshape(6,1)\n",
    "\n",
    "print(\"After Reshaping 6x1:\")\n",
    "print(c.shape)\n",
    "print(c)\n",
    "\n",
    "\n",
    "# 3. Reshape to 6x : vector of items without column\n",
    "d = a.reshape(6, )\n",
    "\n",
    "print(\"After Reshaping 6, :\")\n",
    "print(d.shape)\n",
    "print(d)"
   ]
  },
  {
   "cell_type": "markdown",
   "metadata": {},
   "source": [
    "# Flattening"
   ]
  },
  {
   "cell_type": "code",
   "execution_count": 61,
   "metadata": {},
   "outputs": [
    {
     "name": "stdout",
     "output_type": "stream",
     "text": [
      "[[1 2]\n",
      " [3 4]\n",
      " [5 6]] (3, 2)\n",
      "[1 2 3 4 5 6] (6,)\n",
      "1\n",
      "2\n",
      "3\n",
      "4\n",
      "5\n",
      "6\n"
     ]
    }
   ],
   "source": [
    "a = np.array([ [1,2] , [3,4] , [5,6] ])\n",
    "\n",
    "print(a, a.shape)\n",
    "\n",
    "\n",
    "result = a.ravel()\n",
    "\n",
    "print(result, result.shape)\n",
    "\n",
    "# Alternative for Looping\n",
    "for item in a.flat:\n",
    "    print(item)"
   ]
  },
  {
   "cell_type": "markdown",
   "metadata": {},
   "source": [
    "# Iteration over an array"
   ]
  },
  {
   "cell_type": "code",
   "execution_count": 64,
   "metadata": {},
   "outputs": [
    {
     "name": "stdout",
     "output_type": "stream",
     "text": [
      "[[1 2]\n",
      " [3 4]\n",
      " [5 6]] (3, 2)\n",
      "[1 2]\n",
      "[3 4]\n",
      "[5 6]\n"
     ]
    }
   ],
   "source": [
    "a = np.array([ [1,2] , [3,4] , [5,6] ])\n",
    "\n",
    "print(a, a.shape)\n",
    "\n",
    "for row in a:\n",
    "    print(row)"
   ]
  },
  {
   "cell_type": "markdown",
   "metadata": {},
   "source": [
    "# Random"
   ]
  },
  {
   "cell_type": "code",
   "execution_count": 65,
   "metadata": {},
   "outputs": [],
   "source": [
    "from numpy import random"
   ]
  },
  {
   "cell_type": "code",
   "execution_count": 95,
   "metadata": {},
   "outputs": [
    {
     "name": "stdout",
     "output_type": "stream",
     "text": [
      "5 <class 'int'>\n",
      "[72 46 35 91 96] <class 'numpy.ndarray'>\n",
      "[[84 84]\n",
      " [38 21]\n",
      " [86 60]] <class 'numpy.ndarray'>\n",
      "[[43.87122058 94.08575953]\n",
      " [52.0364128  96.89907657]\n",
      " [37.52654533 73.28494049]] <class 'numpy.ndarray'>\n",
      "3 <class 'numpy.int32'>\n",
      "[5 4 4] <class 'numpy.ndarray'>\n",
      "[[3 4 6 1 5 2]\n",
      " [7 3 6 5 7 2]\n",
      " [5 7 3 1 6 1]] <class 'numpy.ndarray'>\n"
     ]
    }
   ],
   "source": [
    "x = random.randint(100)\n",
    "print(x, type(x))\n",
    "\n",
    "\n",
    "x = random.randint(100, size=(5,))\n",
    "print(x, type(x))\n",
    "\n",
    "x = random.randint(100, size=(3,2))\n",
    "print(x, type(x))\n",
    "\n",
    "\n",
    "x = random.uniform(100, size=(3,2))\n",
    "print(x, type(x))\n",
    "\n",
    "\n",
    "##############################\n",
    "my_list = [1,2,3,4,5,6,7]\n",
    "\n",
    "x = random.choice(my_list)\n",
    "print(x, type(x))\n",
    "\n",
    "\n",
    "x = random.choice(my_list, size= (3,))\n",
    "print(x, type(x))\n",
    "\n",
    "\n",
    "x = random.choice(my_list, size= (3,6))\n",
    "print(x, type(x))\n"
   ]
  },
  {
   "cell_type": "markdown",
   "metadata": {},
   "source": [
    "# View"
   ]
  },
  {
   "cell_type": "code",
   "execution_count": 98,
   "metadata": {},
   "outputs": [
    {
     "name": "stdout",
     "output_type": "stream",
     "text": [
      "[1 2 3 4 5]\n",
      "[1 2 3 4 5]\n",
      "[11  2  3  4  5]\n",
      "[11  2  3  4  5]\n",
      "[11 22  3  4  5]\n",
      "[11 22  3  4  5]\n"
     ]
    }
   ],
   "source": [
    "a = np.array([1,2,3,4,5]) \n",
    "b = a  # b will refenrece to the same container as a\n",
    "\n",
    "print(a)\n",
    "print(b)\n",
    "\n",
    "\n",
    "a[0] = 11 \n",
    "print(a)\n",
    "print(b)\n",
    "\n",
    "\n",
    "b[1] = 22 \n",
    "print(a)\n",
    "print(b)"
   ]
  },
  {
   "cell_type": "markdown",
   "metadata": {},
   "source": [
    "# Copy"
   ]
  },
  {
   "cell_type": "code",
   "execution_count": 99,
   "metadata": {},
   "outputs": [
    {
     "name": "stdout",
     "output_type": "stream",
     "text": [
      "[11  2  3  4  5]\n",
      "[1 2 3 4 5]\n",
      "[11  2  3  4  5]\n",
      "[ 1 22  3  4  5]\n"
     ]
    }
   ],
   "source": [
    "a = np.array([1,2,3,4,5]) \n",
    "b = a.copy() # a & b will refer to differtent containers\n",
    "\n",
    "a[0] = 11 \n",
    "print(a)\n",
    "print(b)\n",
    "\n",
    "\n",
    "b[1] = 22 \n",
    "print(a)\n",
    "print(b)"
   ]
  },
  {
   "cell_type": "markdown",
   "metadata": {},
   "source": [
    "# Vertical Stack of data \n",
    "übereinander"
   ]
  },
  {
   "cell_type": "code",
   "execution_count": 105,
   "metadata": {},
   "outputs": [
    {
     "name": "stdout",
     "output_type": "stream",
     "text": [
      "[[ 1  2]\n",
      " [ 3  4]\n",
      " [ 5  6]\n",
      " [ 7  8]\n",
      " [ 9 10]\n",
      " [11 12]]\n"
     ]
    }
   ],
   "source": [
    "a1 = np.array([ \n",
    "                [1,2] , \n",
    "                [3,4] , \n",
    "                [5,6] \n",
    "            ])\n",
    "\n",
    "a2 = np.array([ \n",
    "                [7,8] , \n",
    "                [9,10] , \n",
    "                [11,12] \n",
    "            ])\n",
    "\n",
    "output = np.vstack((a1, a2))\n",
    "\n",
    "print(output)"
   ]
  },
  {
   "cell_type": "markdown",
   "metadata": {},
   "source": [
    "# Horizontal Stacking of data\n",
    "nebeneinander"
   ]
  },
  {
   "cell_type": "code",
   "execution_count": 101,
   "metadata": {},
   "outputs": [
    {
     "name": "stdout",
     "output_type": "stream",
     "text": [
      "[[ 1  2  7  8]\n",
      " [ 3  4  9 10]\n",
      " [ 5  6 11 12]]\n"
     ]
    }
   ],
   "source": [
    "a1 = np.array([ \n",
    "                [1,2] , \n",
    "                [3,4] , \n",
    "                [5,6] \n",
    "            ])\n",
    "\n",
    "a2 = np.array([ \n",
    "                [7,8] , \n",
    "                [9,10] , \n",
    "                [11,12] \n",
    "            ])\n",
    "\n",
    "output = np.hstack((a1, a2))\n",
    "\n",
    "print(output)"
   ]
  },
  {
   "cell_type": "markdown",
   "metadata": {},
   "source": [
    "# Transpose"
   ]
  },
  {
   "cell_type": "code",
   "execution_count": 102,
   "metadata": {},
   "outputs": [
    {
     "name": "stdout",
     "output_type": "stream",
     "text": [
      "[[1 4 7]\n",
      " [2 5 8]\n",
      " [3 6 9]]\n"
     ]
    }
   ],
   "source": [
    "a = np.array([[1,2,3],\n",
    "              [4,5,6],\n",
    "              [7,8,9]])\n",
    "\n",
    "output = a.T \n",
    "\n",
    "print(output)"
   ]
  },
  {
   "cell_type": "markdown",
   "metadata": {},
   "source": [
    "# Where ..-> show the indexes where arrays matchs a logic"
   ]
  },
  {
   "cell_type": "code",
   "execution_count": 103,
   "metadata": {},
   "outputs": [
    {
     "name": "stdout",
     "output_type": "stream",
     "text": [
      "(array([0, 3, 4], dtype=int64),)\n"
     ]
    }
   ],
   "source": [
    "a = np.array([1,2,3,4,5])\n",
    "b = np.array([1,3,2,4,5])\n",
    "\n",
    "# Show the indexes where a == b\n",
    "print(np.where(a == b))\n"
   ]
  }
 ],
 "metadata": {
  "kernelspec": {
   "display_name": "Python 3",
   "language": "python",
   "name": "python3"
  },
  "language_info": {
   "codemirror_mode": {
    "name": "ipython",
    "version": 3
   },
   "file_extension": ".py",
   "mimetype": "text/x-python",
   "name": "python",
   "nbconvert_exporter": "python",
   "pygments_lexer": "ipython3",
   "version": "3.11.7"
  }
 },
 "nbformat": 4,
 "nbformat_minor": 2
}
