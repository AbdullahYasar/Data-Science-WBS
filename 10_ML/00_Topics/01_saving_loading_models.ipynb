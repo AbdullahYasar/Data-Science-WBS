{
 "cells": [
  {
   "cell_type": "markdown",
   "metadata": {},
   "source": [
    "# Saving and Loading models"
   ]
  },
  {
   "cell_type": "code",
   "execution_count": null,
   "metadata": {},
   "outputs": [],
   "source": [
    "model = \"My trained model\""
   ]
  },
  {
   "cell_type": "markdown",
   "metadata": {},
   "source": [
    "## 1. Variant: Pickle"
   ]
  },
  {
   "cell_type": "code",
   "execution_count": null,
   "metadata": {},
   "outputs": [],
   "source": [
    "import pickle"
   ]
  },
  {
   "cell_type": "code",
   "execution_count": null,
   "metadata": {},
   "outputs": [],
   "source": [
    "# Save the model\n",
    "with open(\"./models/model_lin_reg_v1.pkl\", mode = \"wb\") as file:\n",
    "    pickle.dump(model, file)\n"
   ]
  },
  {
   "cell_type": "code",
   "execution_count": null,
   "metadata": {},
   "outputs": [],
   "source": [
    "# Load the model\n",
    "with open(\"./models/model_lin_reg_v1.pkl\", mode = \"rb\") as file:\n",
    "    model2 = pickle.load(file)\n",
    "\n",
    "\n",
    "model2.predict([[40]])"
   ]
  },
  {
   "cell_type": "markdown",
   "metadata": {},
   "source": [
    "# 2. Variant: Joblib"
   ]
  },
  {
   "cell_type": "code",
   "execution_count": null,
   "metadata": {},
   "outputs": [],
   "source": [
    "import joblib"
   ]
  },
  {
   "cell_type": "code",
   "execution_count": null,
   "metadata": {},
   "outputs": [],
   "source": [
    "# Save the model\n",
    "\n",
    "joblib.dump(model, \"./models/model_lin_reg_v1.jlb\")\n",
    "joblib.dump(model, \"./models/model_lin_reg_v1.jlb\", compress = 3)  # compress : 0[no compression] - 9 [max compression]  - default zlib format\n",
    "joblib.dump(model, \"./models/model_lin_reg_v1.jlb\", compress = (\"gzip\", 3)))  # compress : 0[no compression] - 9 [max compression]\n",
    "joblib.dump(model, \"./models/model_lin_reg_v1.jlb\", compress = (\"lz4\", 3)))  # compress : 0[no compression] - 9 [max compression]"
   ]
  },
  {
   "cell_type": "code",
   "execution_count": null,
   "metadata": {},
   "outputs": [],
   "source": [
    "# Load the model\n",
    "model2 = joblib.load(\"./models/model_lin_reg_v1.jlb\")\n",
    "model2 = joblib.load(\"./models/model_lin_reg_v1.jlb\", mmap_mode = \"r\")  # without executing injected codes, much faster for large data"
   ]
  }
 ],
 "metadata": {
  "language_info": {
   "name": "python"
  }
 },
 "nbformat": 4,
 "nbformat_minor": 2
}
