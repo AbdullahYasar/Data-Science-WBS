{
 "cells": [
  {
   "cell_type": "markdown",
   "metadata": {},
   "source": [
    "# Übung\n",
    "\n",
    "Lesen Sie die Datei noten.csv ein und führen Sie eine lineare Regression. 'Anzahl Stunden' entsprechen dabei den x-Werten und 'Note' den y-Werten. Beachten Sie das die Daten in dieser csv nicht durch ein Semikolon sondern durch ein Komma getrennt sind.\n",
    "(Zusatz: Fügen Sie eine Eingabe ein: Der Benutzer soll seine Lernstunden eingeben und erhält dann eine geschätzte Note.)"
   ]
  },
  {
   "cell_type": "code",
   "execution_count": null,
   "metadata": {},
   "outputs": [],
   "source": [
    "# your code"
   ]
  }
 ],
 "metadata": {
  "language_info": {
   "name": "python"
  }
 },
 "nbformat": 4,
 "nbformat_minor": 2
}
