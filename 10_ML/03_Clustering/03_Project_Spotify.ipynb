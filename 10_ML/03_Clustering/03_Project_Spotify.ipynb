{
 "cells": [
  {
   "cell_type": "markdown",
   "metadata": {},
   "source": [
    "# Spotify"
   ]
  },
  {
   "cell_type": "code",
   "execution_count": 85,
   "metadata": {},
   "outputs": [],
   "source": [
    "import pandas as pd\n",
    "import matplotlib.pyplot as plt\n",
    "\n",
    "from sklearn.cluster import KMeans\n",
    "import seaborn as sn\n",
    "\n",
    "from sklearn.preprocessing import MinMaxScaler\n",
    "from sklearn.metrics import silhouette_score\n",
    "from pathlib import Path \n",
    "import os\n",
    "\n"
   ]
  },
  {
   "cell_type": "code",
   "execution_count": 86,
   "metadata": {},
   "outputs": [
    {
     "data": {
      "text/html": [
       "<div>\n",
       "<style scoped>\n",
       "    .dataframe tbody tr th:only-of-type {\n",
       "        vertical-align: middle;\n",
       "    }\n",
       "\n",
       "    .dataframe tbody tr th {\n",
       "        vertical-align: top;\n",
       "    }\n",
       "\n",
       "    .dataframe thead th {\n",
       "        text-align: right;\n",
       "    }\n",
       "</style>\n",
       "<table border=\"1\" class=\"dataframe\">\n",
       "  <thead>\n",
       "    <tr style=\"text-align: right;\">\n",
       "      <th></th>\n",
       "      <th>song_name</th>\n",
       "      <th>artist</th>\n",
       "      <th>danceability</th>\n",
       "      <th>energy</th>\n",
       "      <th>key</th>\n",
       "      <th>loudness</th>\n",
       "      <th>mode</th>\n",
       "      <th>speechiness</th>\n",
       "      <th>acousticness</th>\n",
       "      <th>instrumentalness</th>\n",
       "      <th>liveness</th>\n",
       "      <th>valence</th>\n",
       "      <th>tempo</th>\n",
       "      <th>duration_ms</th>\n",
       "      <th>time_signature</th>\n",
       "      <th>id</th>\n",
       "      <th>html</th>\n",
       "    </tr>\n",
       "  </thead>\n",
       "  <tbody>\n",
       "    <tr>\n",
       "      <th>0</th>\n",
       "      <td>My Band</td>\n",
       "      <td>D12</td>\n",
       "      <td>0.851</td>\n",
       "      <td>0.849</td>\n",
       "      <td>1</td>\n",
       "      <td>-3.383</td>\n",
       "      <td>0</td>\n",
       "      <td>0.0828</td>\n",
       "      <td>0.4970</td>\n",
       "      <td>0.000002</td>\n",
       "      <td>0.1160</td>\n",
       "      <td>0.844</td>\n",
       "      <td>120.014</td>\n",
       "      <td>298773</td>\n",
       "      <td>4</td>\n",
       "      <td>4XHQyvbrBsQaaBUW1VvmsL</td>\n",
       "      <td>https://open.spotify.com/track/4XHQyvbrBsQaaBU...</td>\n",
       "    </tr>\n",
       "    <tr>\n",
       "      <th>1</th>\n",
       "      <td>The Real Slim Shady</td>\n",
       "      <td>Eminem</td>\n",
       "      <td>0.949</td>\n",
       "      <td>0.661</td>\n",
       "      <td>5</td>\n",
       "      <td>-4.244</td>\n",
       "      <td>0</td>\n",
       "      <td>0.0572</td>\n",
       "      <td>0.0302</td>\n",
       "      <td>0.000000</td>\n",
       "      <td>0.0454</td>\n",
       "      <td>0.760</td>\n",
       "      <td>104.504</td>\n",
       "      <td>284200</td>\n",
       "      <td>4</td>\n",
       "      <td>3yfqSUWxFvZELEM4PmlwIR</td>\n",
       "      <td>https://open.spotify.com/track/3yfqSUWxFvZELEM...</td>\n",
       "    </tr>\n",
       "    <tr>\n",
       "      <th>2</th>\n",
       "      <td>Águas De Março</td>\n",
       "      <td>Antônio Carlos Jobim</td>\n",
       "      <td>0.642</td>\n",
       "      <td>0.339</td>\n",
       "      <td>3</td>\n",
       "      <td>-15.503</td>\n",
       "      <td>1</td>\n",
       "      <td>0.1400</td>\n",
       "      <td>0.8540</td>\n",
       "      <td>0.000000</td>\n",
       "      <td>0.1050</td>\n",
       "      <td>0.491</td>\n",
       "      <td>143.418</td>\n",
       "      <td>212400</td>\n",
       "      <td>4</td>\n",
       "      <td>1y7OxO5i6sfrHXAmUM77YG</td>\n",
       "      <td>https://open.spotify.com/track/1y7OxO5i6sfrHXA...</td>\n",
       "    </tr>\n",
       "    <tr>\n",
       "      <th>3</th>\n",
       "      <td>The Girl From Ipanema</td>\n",
       "      <td>Stan Getz</td>\n",
       "      <td>0.641</td>\n",
       "      <td>0.140</td>\n",
       "      <td>8</td>\n",
       "      <td>-16.790</td>\n",
       "      <td>1</td>\n",
       "      <td>0.0390</td>\n",
       "      <td>0.8670</td>\n",
       "      <td>0.001660</td>\n",
       "      <td>0.1050</td>\n",
       "      <td>0.388</td>\n",
       "      <td>129.318</td>\n",
       "      <td>317987</td>\n",
       "      <td>4</td>\n",
       "      <td>3898C4AbdbptwYet6547e5</td>\n",
       "      <td>https://open.spotify.com/track/3898C4AbdbptwYe...</td>\n",
       "    </tr>\n",
       "    <tr>\n",
       "      <th>4</th>\n",
       "      <td>Paint It, Black</td>\n",
       "      <td>The Rolling Stones</td>\n",
       "      <td>0.464</td>\n",
       "      <td>0.795</td>\n",
       "      <td>1</td>\n",
       "      <td>-9.267</td>\n",
       "      <td>1</td>\n",
       "      <td>0.0926</td>\n",
       "      <td>0.0493</td>\n",
       "      <td>0.002440</td>\n",
       "      <td>0.3990</td>\n",
       "      <td>0.612</td>\n",
       "      <td>158.691</td>\n",
       "      <td>202267</td>\n",
       "      <td>4</td>\n",
       "      <td>63T7DJ1AFDD6Bn8VzG6JE8</td>\n",
       "      <td>https://open.spotify.com/track/63T7DJ1AFDD6Bn8...</td>\n",
       "    </tr>\n",
       "  </tbody>\n",
       "</table>\n",
       "</div>"
      ],
      "text/plain": [
       "               song_name                artist  danceability  energy  key   \n",
       "0                My Band                   D12         0.851   0.849    1  \\\n",
       "1    The Real Slim Shady                Eminem         0.949   0.661    5   \n",
       "2         Águas De Março  Antônio Carlos Jobim         0.642   0.339    3   \n",
       "3  The Girl From Ipanema             Stan Getz         0.641   0.140    8   \n",
       "4        Paint It, Black    The Rolling Stones         0.464   0.795    1   \n",
       "\n",
       "   loudness  mode  speechiness  acousticness  instrumentalness  liveness   \n",
       "0    -3.383     0       0.0828        0.4970          0.000002    0.1160  \\\n",
       "1    -4.244     0       0.0572        0.0302          0.000000    0.0454   \n",
       "2   -15.503     1       0.1400        0.8540          0.000000    0.1050   \n",
       "3   -16.790     1       0.0390        0.8670          0.001660    0.1050   \n",
       "4    -9.267     1       0.0926        0.0493          0.002440    0.3990   \n",
       "\n",
       "   valence    tempo  duration_ms  time_signature                      id   \n",
       "0    0.844  120.014       298773               4  4XHQyvbrBsQaaBUW1VvmsL  \\\n",
       "1    0.760  104.504       284200               4  3yfqSUWxFvZELEM4PmlwIR   \n",
       "2    0.491  143.418       212400               4  1y7OxO5i6sfrHXAmUM77YG   \n",
       "3    0.388  129.318       317987               4  3898C4AbdbptwYet6547e5   \n",
       "4    0.612  158.691       202267               4  63T7DJ1AFDD6Bn8VzG6JE8   \n",
       "\n",
       "                                                html  \n",
       "0  https://open.spotify.com/track/4XHQyvbrBsQaaBU...  \n",
       "1  https://open.spotify.com/track/3yfqSUWxFvZELEM...  \n",
       "2  https://open.spotify.com/track/1y7OxO5i6sfrHXA...  \n",
       "3  https://open.spotify.com/track/3898C4AbdbptwYe...  \n",
       "4  https://open.spotify.com/track/63T7DJ1AFDD6Bn8...  "
      ]
     },
     "execution_count": 86,
     "metadata": {},
     "output_type": "execute_result"
    }
   ],
   "source": [
    "\n",
    "\n",
    "df = pd.read_csv(\"./df_audio_features_10.csv\")\n",
    "\n",
    "df.head()"
   ]
  },
  {
   "cell_type": "markdown",
   "metadata": {},
   "source": [
    "\n"
   ]
  },
  {
   "cell_type": "code",
   "execution_count": 87,
   "metadata": {},
   "outputs": [
    {
     "data": {
      "text/plain": [
       "0                                              My Band\n",
       "1                                  The Real Slim Shady\n",
       "2                                       Águas De Março\n",
       "3                                The Girl From Ipanema\n",
       "4                                      Paint It, Black\n",
       "5                                     Sultans Of Swing\n",
       "6             Space Raiders - Charlotte de Witte Remix\n",
       "7                                           In Silence\n",
       "8    Wiegenlied, Op. 49, No. 4 (Arr. for Cello and ...\n",
       "9    Nocturne en mi bémol majeur opus 9 n°2: Ballad...\n",
       "Name: song_name, dtype: object"
      ]
     },
     "execution_count": 87,
     "metadata": {},
     "output_type": "execute_result"
    }
   ],
   "source": [
    "df[\"song_name\"]"
   ]
  },
  {
   "cell_type": "code",
   "execution_count": 88,
   "metadata": {},
   "outputs": [],
   "source": [
    "# i made as blow the groups when i heard \n",
    "\n",
    "# 0                                              My Band --- rap-pop\n",
    "\n",
    "# 1                                  The Real Slim Shady --- rap-pop\n",
    "\n",
    "# 2                                       Águas De Março --- dance_slow\n",
    "\n",
    "# 3                                The Girl From Ipanema --- slow\n",
    "\n",
    "# 4                                      Paint It, Black --- rock_pop\n",
    "\n",
    "# 5                                     Sultans Of Swing --- clasic_pop\n",
    "\n",
    "# 6             Space Raiders - Charlotte de Witte Remix --- dj_remix\n",
    "\n",
    "# 7                                           In Silence --- dj_remix\n",
    "\n",
    "# 8    Wiegenlied, Op. 49, No. 4 (Arr. for Cello and ... --- ganz_clasic\n",
    "\n",
    "# 9    Nocturne en mi bémol majeur opus 9 n°2: Ballad... --- ganz_clasic"
   ]
  },
  {
   "cell_type": "markdown",
   "metadata": {},
   "source": [
    "# K-Means methode"
   ]
  },
  {
   "cell_type": "code",
   "execution_count": 89,
   "metadata": {},
   "outputs": [
    {
     "data": {
      "text/html": [
       "<div>\n",
       "<style scoped>\n",
       "    .dataframe tbody tr th:only-of-type {\n",
       "        vertical-align: middle;\n",
       "    }\n",
       "\n",
       "    .dataframe tbody tr th {\n",
       "        vertical-align: top;\n",
       "    }\n",
       "\n",
       "    .dataframe thead th {\n",
       "        text-align: right;\n",
       "    }\n",
       "</style>\n",
       "<table border=\"1\" class=\"dataframe\">\n",
       "  <thead>\n",
       "    <tr style=\"text-align: right;\">\n",
       "      <th></th>\n",
       "      <th>song_name</th>\n",
       "      <th>loudness</th>\n",
       "      <th>acousticness</th>\n",
       "    </tr>\n",
       "  </thead>\n",
       "  <tbody>\n",
       "    <tr>\n",
       "      <th>0</th>\n",
       "      <td>My Band</td>\n",
       "      <td>-3.383</td>\n",
       "      <td>0.49700</td>\n",
       "    </tr>\n",
       "    <tr>\n",
       "      <th>1</th>\n",
       "      <td>The Real Slim Shady</td>\n",
       "      <td>-4.244</td>\n",
       "      <td>0.03020</td>\n",
       "    </tr>\n",
       "    <tr>\n",
       "      <th>2</th>\n",
       "      <td>Águas De Março</td>\n",
       "      <td>-15.503</td>\n",
       "      <td>0.85400</td>\n",
       "    </tr>\n",
       "    <tr>\n",
       "      <th>3</th>\n",
       "      <td>The Girl From Ipanema</td>\n",
       "      <td>-16.790</td>\n",
       "      <td>0.86700</td>\n",
       "    </tr>\n",
       "    <tr>\n",
       "      <th>4</th>\n",
       "      <td>Paint It, Black</td>\n",
       "      <td>-9.267</td>\n",
       "      <td>0.04930</td>\n",
       "    </tr>\n",
       "    <tr>\n",
       "      <th>5</th>\n",
       "      <td>Sultans Of Swing</td>\n",
       "      <td>-10.023</td>\n",
       "      <td>0.06140</td>\n",
       "    </tr>\n",
       "    <tr>\n",
       "      <th>6</th>\n",
       "      <td>Space Raiders - Charlotte de Witte Remix</td>\n",
       "      <td>-10.865</td>\n",
       "      <td>0.00314</td>\n",
       "    </tr>\n",
       "    <tr>\n",
       "      <th>7</th>\n",
       "      <td>In Silence</td>\n",
       "      <td>-12.017</td>\n",
       "      <td>0.00548</td>\n",
       "    </tr>\n",
       "    <tr>\n",
       "      <th>8</th>\n",
       "      <td>Wiegenlied, Op. 49, No. 4 (Arr. for Cello and ...</td>\n",
       "      <td>-33.503</td>\n",
       "      <td>0.98900</td>\n",
       "    </tr>\n",
       "    <tr>\n",
       "      <th>9</th>\n",
       "      <td>Nocturne en mi bémol majeur opus 9 n°2: Ballad...</td>\n",
       "      <td>-24.698</td>\n",
       "      <td>0.99000</td>\n",
       "    </tr>\n",
       "  </tbody>\n",
       "</table>\n",
       "</div>"
      ],
      "text/plain": [
       "                                           song_name  loudness  acousticness\n",
       "0                                            My Band    -3.383       0.49700\n",
       "1                                The Real Slim Shady    -4.244       0.03020\n",
       "2                                     Águas De Março   -15.503       0.85400\n",
       "3                              The Girl From Ipanema   -16.790       0.86700\n",
       "4                                    Paint It, Black    -9.267       0.04930\n",
       "5                                   Sultans Of Swing   -10.023       0.06140\n",
       "6           Space Raiders - Charlotte de Witte Remix   -10.865       0.00314\n",
       "7                                         In Silence   -12.017       0.00548\n",
       "8  Wiegenlied, Op. 49, No. 4 (Arr. for Cello and ...   -33.503       0.98900\n",
       "9  Nocturne en mi bémol majeur opus 9 n°2: Ballad...   -24.698       0.99000"
      ]
     },
     "execution_count": 89,
     "metadata": {},
     "output_type": "execute_result"
    }
   ],
   "source": [
    "df1 = df[[\"song_name\", \"loudness\", \"acousticness\"]]\n",
    "\n",
    "df1.head(10)"
   ]
  },
  {
   "cell_type": "code",
   "execution_count": 115,
   "metadata": {},
   "outputs": [
    {
     "data": {
      "text/plain": [
       "Text(0, 0.5, 'acousticness')"
      ]
     },
     "execution_count": 115,
     "metadata": {},
     "output_type": "execute_result"
    },
    {
     "data": {
      "image/png": "[encoded data removed]",
      "text/plain": [
       "<Figure size 640x480 with 1 Axes>"
      ]
     },
     "metadata": {},
     "output_type": "display_data"
    }
   ],
   "source": [
    "plt.scatter(df[[\"loudness\"]], df[[\"acousticness\"]])\n",
    "plt.xlabel(\"loudness\")\n",
    "plt.ylabel(\"acousticness\")\n"
   ]
  },
  {
   "cell_type": "code",
   "execution_count": 116,
   "metadata": {},
   "outputs": [
    {
     "data": {
      "text/plain": [
       "Text(0, 0.5, 'tempo')"
      ]
     },
     "execution_count": 116,
     "metadata": {},
     "output_type": "execute_result"
    },
    {
     "data": {
      "image/png": "[encoded data removed]",
      "text/plain": [
       "<Figure size 640x480 with 1 Axes>"
      ]
     },
     "metadata": {},
     "output_type": "display_data"
    }
   ],
   "source": [
    "plt.scatter(df[[\"loudness\"]], df[[\"tempo\"]])  # Best duo-columns what i found\n",
    "plt.xlabel(\"loudness\")\n",
    "plt.ylabel(\"tempo\")\n"
   ]
  },
  {
   "cell_type": "code",
   "execution_count": 113,
   "metadata": {},
   "outputs": [
    {
     "data": {
      "text/plain": [
       "Text(0, 0.5, 'loudness')"
      ]
     },
     "execution_count": 113,
     "metadata": {},
     "output_type": "execute_result"
    },
    {
     "data": {
      "image/png": "[encoded data removed]",
      "text/plain": [
       "<Figure size 640x480 with 1 Axes>"
      ]
     },
     "metadata": {},
     "output_type": "display_data"
    }
   ],
   "source": [
    "plt.scatter(df[[\"danceability\"]], df[[\"loudness\"]])\n",
    "plt.xlabel(\"danceability\")\n",
    "plt.ylabel(\"loudness\")\n"
   ]
  },
  {
   "cell_type": "code",
   "execution_count": 127,
   "metadata": {},
   "outputs": [
    {
     "data": {
      "text/plain": [
       "array([1, 1, 0, 0, 0, 0, 2, 3, 4, 4])"
      ]
     },
     "execution_count": 127,
     "metadata": {},
     "output_type": "execute_result"
    }
   ],
   "source": [
    "model = KMeans(n_clusters=5)\n",
    "\n",
    "y_predicted = model.fit_predict(df[[\"loudness\", \"tempo\"]])\n",
    "\n",
    "y_predicted"
   ]
  },
  {
   "cell_type": "code",
   "execution_count": 102,
   "metadata": {},
   "outputs": [
    {
     "data": {
      "text/html": [
       "<div>\n",
       "<style scoped>\n",
       "    .dataframe tbody tr th:only-of-type {\n",
       "        vertical-align: middle;\n",
       "    }\n",
       "\n",
       "    .dataframe tbody tr th {\n",
       "        vertical-align: top;\n",
       "    }\n",
       "\n",
       "    .dataframe thead th {\n",
       "        text-align: right;\n",
       "    }\n",
       "</style>\n",
       "<table border=\"1\" class=\"dataframe\">\n",
       "  <thead>\n",
       "    <tr style=\"text-align: right;\">\n",
       "      <th></th>\n",
       "      <th>song_name</th>\n",
       "      <th>artist</th>\n",
       "      <th>danceability</th>\n",
       "      <th>energy</th>\n",
       "      <th>key</th>\n",
       "      <th>loudness</th>\n",
       "      <th>mode</th>\n",
       "      <th>speechiness</th>\n",
       "      <th>acousticness</th>\n",
       "      <th>instrumentalness</th>\n",
       "      <th>liveness</th>\n",
       "      <th>valence</th>\n",
       "      <th>tempo</th>\n",
       "      <th>duration_ms</th>\n",
       "      <th>time_signature</th>\n",
       "      <th>id</th>\n",
       "      <th>html</th>\n",
       "      <th>cluster</th>\n",
       "    </tr>\n",
       "  </thead>\n",
       "  <tbody>\n",
       "    <tr>\n",
       "      <th>8</th>\n",
       "      <td>Wiegenlied, Op. 49, No. 4 (Arr. for Cello and ...</td>\n",
       "      <td>Johannes Brahms</td>\n",
       "      <td>0.184</td>\n",
       "      <td>0.00833</td>\n",
       "      <td>3</td>\n",
       "      <td>-33.503</td>\n",
       "      <td>1</td>\n",
       "      <td>0.0519</td>\n",
       "      <td>0.98900</td>\n",
       "      <td>0.596000</td>\n",
       "      <td>0.104</td>\n",
       "      <td>0.2110</td>\n",
       "      <td>61.541</td>\n",
       "      <td>109800</td>\n",
       "      <td>3</td>\n",
       "      <td>59cPOVxrn3Yjwydl1pullI</td>\n",
       "      <td>https://open.spotify.com/track/59cPOVxrn3Yjwyd...</td>\n",
       "      <td>0</td>\n",
       "    </tr>\n",
       "    <tr>\n",
       "      <th>9</th>\n",
       "      <td>Nocturne en mi bémol majeur opus 9 n°2: Ballad...</td>\n",
       "      <td>Frédéric Chopin</td>\n",
       "      <td>0.387</td>\n",
       "      <td>0.04510</td>\n",
       "      <td>3</td>\n",
       "      <td>-24.698</td>\n",
       "      <td>1</td>\n",
       "      <td>0.0364</td>\n",
       "      <td>0.99000</td>\n",
       "      <td>0.913000</td>\n",
       "      <td>0.112</td>\n",
       "      <td>0.0710</td>\n",
       "      <td>61.494</td>\n",
       "      <td>268427</td>\n",
       "      <td>4</td>\n",
       "      <td>7n92QzQomRCLlciO14X0kd</td>\n",
       "      <td>https://open.spotify.com/track/7n92QzQomRCLlci...</td>\n",
       "      <td>0</td>\n",
       "    </tr>\n",
       "    <tr>\n",
       "      <th>0</th>\n",
       "      <td>My Band</td>\n",
       "      <td>D12</td>\n",
       "      <td>0.851</td>\n",
       "      <td>0.84900</td>\n",
       "      <td>1</td>\n",
       "      <td>-3.383</td>\n",
       "      <td>0</td>\n",
       "      <td>0.0828</td>\n",
       "      <td>0.49700</td>\n",
       "      <td>0.000002</td>\n",
       "      <td>0.116</td>\n",
       "      <td>0.8440</td>\n",
       "      <td>120.014</td>\n",
       "      <td>298773</td>\n",
       "      <td>4</td>\n",
       "      <td>4XHQyvbrBsQaaBUW1VvmsL</td>\n",
       "      <td>https://open.spotify.com/track/4XHQyvbrBsQaaBU...</td>\n",
       "      <td>1</td>\n",
       "    </tr>\n",
       "    <tr>\n",
       "      <th>3</th>\n",
       "      <td>The Girl From Ipanema</td>\n",
       "      <td>Stan Getz</td>\n",
       "      <td>0.641</td>\n",
       "      <td>0.14000</td>\n",
       "      <td>8</td>\n",
       "      <td>-16.790</td>\n",
       "      <td>1</td>\n",
       "      <td>0.0390</td>\n",
       "      <td>0.86700</td>\n",
       "      <td>0.001660</td>\n",
       "      <td>0.105</td>\n",
       "      <td>0.3880</td>\n",
       "      <td>129.318</td>\n",
       "      <td>317987</td>\n",
       "      <td>4</td>\n",
       "      <td>3898C4AbdbptwYet6547e5</td>\n",
       "      <td>https://open.spotify.com/track/3898C4AbdbptwYe...</td>\n",
       "      <td>1</td>\n",
       "    </tr>\n",
       "    <tr>\n",
       "      <th>6</th>\n",
       "      <td>Space Raiders - Charlotte de Witte Remix</td>\n",
       "      <td>Eats Everything</td>\n",
       "      <td>0.749</td>\n",
       "      <td>0.73100</td>\n",
       "      <td>4</td>\n",
       "      <td>-10.865</td>\n",
       "      <td>1</td>\n",
       "      <td>0.1080</td>\n",
       "      <td>0.00314</td>\n",
       "      <td>0.867000</td>\n",
       "      <td>0.111</td>\n",
       "      <td>0.0598</td>\n",
       "      <td>131.997</td>\n",
       "      <td>438720</td>\n",
       "      <td>4</td>\n",
       "      <td>4F8OK7mNa51mKqgHqWQiYm</td>\n",
       "      <td>https://open.spotify.com/track/4F8OK7mNa51mKqg...</td>\n",
       "      <td>1</td>\n",
       "    </tr>\n",
       "  </tbody>\n",
       "</table>\n",
       "</div>"
      ],
      "text/plain": [
       "                                           song_name           artist   \n",
       "8  Wiegenlied, Op. 49, No. 4 (Arr. for Cello and ...  Johannes Brahms  \\\n",
       "9  Nocturne en mi bémol majeur opus 9 n°2: Ballad...  Frédéric Chopin   \n",
       "0                                            My Band              D12   \n",
       "3                              The Girl From Ipanema        Stan Getz   \n",
       "6           Space Raiders - Charlotte de Witte Remix  Eats Everything   \n",
       "\n",
       "   danceability   energy  key  loudness  mode  speechiness  acousticness   \n",
       "8         0.184  0.00833    3   -33.503     1       0.0519       0.98900  \\\n",
       "9         0.387  0.04510    3   -24.698     1       0.0364       0.99000   \n",
       "0         0.851  0.84900    1    -3.383     0       0.0828       0.49700   \n",
       "3         0.641  0.14000    8   -16.790     1       0.0390       0.86700   \n",
       "6         0.749  0.73100    4   -10.865     1       0.1080       0.00314   \n",
       "\n",
       "   instrumentalness  liveness  valence    tempo  duration_ms  time_signature   \n",
       "8          0.596000     0.104   0.2110   61.541       109800               3  \\\n",
       "9          0.913000     0.112   0.0710   61.494       268427               4   \n",
       "0          0.000002     0.116   0.8440  120.014       298773               4   \n",
       "3          0.001660     0.105   0.3880  129.318       317987               4   \n",
       "6          0.867000     0.111   0.0598  131.997       438720               4   \n",
       "\n",
       "                       id                                               html   \n",
       "8  59cPOVxrn3Yjwydl1pullI  https://open.spotify.com/track/59cPOVxrn3Yjwyd...  \\\n",
       "9  7n92QzQomRCLlciO14X0kd  https://open.spotify.com/track/7n92QzQomRCLlci...   \n",
       "0  4XHQyvbrBsQaaBUW1VvmsL  https://open.spotify.com/track/4XHQyvbrBsQaaBU...   \n",
       "3  3898C4AbdbptwYet6547e5  https://open.spotify.com/track/3898C4AbdbptwYe...   \n",
       "6  4F8OK7mNa51mKqgHqWQiYm  https://open.spotify.com/track/4F8OK7mNa51mKqg...   \n",
       "\n",
       "   cluster  \n",
       "8        0  \n",
       "9        0  \n",
       "0        1  \n",
       "3        1  \n",
       "6        1  "
      ]
     },
     "execution_count": 102,
     "metadata": {},
     "output_type": "execute_result"
    }
   ],
   "source": [
    "df[\"cluster\"] = y_predicted\n",
    "\n",
    "df.sort_values(\"cluster\", inplace= True)\n",
    "\n",
    "df.head()"
   ]
  },
  {
   "cell_type": "code",
   "execution_count": 95,
   "metadata": {},
   "outputs": [
    {
     "data": {
      "text/plain": [
       "array([[ -3.8135    , 112.259     ],\n",
       "       [-29.1005    ,  61.5175    ],\n",
       "       [-12.763     , 145.796     ],\n",
       "       [-13.224     , 129.77466667],\n",
       "       [ -9.267     , 158.691     ]])"
      ]
     },
     "execution_count": 95,
     "metadata": {},
     "output_type": "execute_result"
    }
   ],
   "source": [
    "model.cluster_centers_"
   ]
  },
  {
   "cell_type": "code",
   "execution_count": 96,
   "metadata": {},
   "outputs": [
    {
     "data": {
      "text/plain": [
       "213.74377016666662"
      ]
     },
     "execution_count": 96,
     "metadata": {},
     "output_type": "execute_result"
    }
   ],
   "source": [
    "model.inertia_"
   ]
  },
  {
   "cell_type": "code",
   "execution_count": 97,
   "metadata": {},
   "outputs": [],
   "source": [
    "df1 = df.loc[df.cluster == 0]\n",
    "df2 = df.loc[df.cluster == 1]\n",
    "df3 = df.loc[df.cluster == 2]\n",
    "df4 = df.loc[df.cluster == 3]\n",
    "df5 = df.loc[df.cluster == 4]\n"
   ]
  },
  {
   "cell_type": "code",
   "execution_count": 100,
   "metadata": {},
   "outputs": [
    {
     "data": {
      "text/plain": [
       "<matplotlib.legend.Legend at 0x211b5db00d0>"
      ]
     },
     "execution_count": 100,
     "metadata": {},
     "output_type": "execute_result"
    },
    {
     "data": {
      "image/png": "[encoded data removed]",
      "text/plain": [
       "<Figure size 640x480 with 1 Axes>"
      ]
     },
     "metadata": {},
     "output_type": "display_data"
    }
   ],
   "source": [
    "plt.scatter(df1[\"loudness\"], df1[ \"tempo\"], color = \"green\", label = \"C1\")\n",
    "plt.scatter(df2[\"loudness\"], df2[ \"tempo\"], color = \"red\", label = \"C2\")\n",
    "plt.scatter(df3[\"loudness\"], df3[ \"tempo\"], color = \"blue\", label = \"C3\")\n",
    "plt.scatter(df4[\"loudness\"], df4[ \"tempo\"], color = \"black\", label = \"C4\")\n",
    "plt.scatter(df5[\"loudness\"], df5[ \"tempo\"], color = \"yellow\", label = \"C4\")\n",
    "\n",
    "\n",
    "\n",
    "plt.scatter(model.cluster_centers_[:,0],\n",
    "            model.cluster_centers_[:,1],\n",
    "            color = \"purple\",\n",
    "            marker = \"*\",\n",
    "            label = \"centroid\"\n",
    "            \n",
    "            )\n",
    "\n",
    "plt.legend()"
   ]
  },
  {
   "cell_type": "code",
   "execution_count": 69,
   "metadata": {},
   "outputs": [
    {
     "data": {
      "text/html": [
       "<div>\n",
       "<style scoped>\n",
       "    .dataframe tbody tr th:only-of-type {\n",
       "        vertical-align: middle;\n",
       "    }\n",
       "\n",
       "    .dataframe tbody tr th {\n",
       "        vertical-align: top;\n",
       "    }\n",
       "\n",
       "    .dataframe thead th {\n",
       "        text-align: right;\n",
       "    }\n",
       "</style>\n",
       "<table border=\"1\" class=\"dataframe\">\n",
       "  <thead>\n",
       "    <tr style=\"text-align: right;\">\n",
       "      <th></th>\n",
       "      <th>song_name</th>\n",
       "      <th>loudness</th>\n",
       "      <th>tempo</th>\n",
       "    </tr>\n",
       "  </thead>\n",
       "  <tbody>\n",
       "    <tr>\n",
       "      <th>1</th>\n",
       "      <td>The Real Slim Shady</td>\n",
       "      <td>0.971414</td>\n",
       "      <td>0.442503</td>\n",
       "    </tr>\n",
       "    <tr>\n",
       "      <th>0</th>\n",
       "      <td>My Band</td>\n",
       "      <td>1.000000</td>\n",
       "      <td>0.602076</td>\n",
       "    </tr>\n",
       "    <tr>\n",
       "      <th>8</th>\n",
       "      <td>Wiegenlied, Op. 49, No. 4 (Arr. for Cello and ...</td>\n",
       "      <td>0.000000</td>\n",
       "      <td>0.000484</td>\n",
       "    </tr>\n",
       "    <tr>\n",
       "      <th>9</th>\n",
       "      <td>Nocturne en mi bémol majeur opus 9 n°2: Ballad...</td>\n",
       "      <td>0.292331</td>\n",
       "      <td>0.000000</td>\n",
       "    </tr>\n",
       "    <tr>\n",
       "      <th>3</th>\n",
       "      <td>The Girl From Ipanema</td>\n",
       "      <td>0.554880</td>\n",
       "      <td>0.697799</td>\n",
       "    </tr>\n",
       "    <tr>\n",
       "      <th>2</th>\n",
       "      <td>Águas De Março</td>\n",
       "      <td>0.597610</td>\n",
       "      <td>0.842866</td>\n",
       "    </tr>\n",
       "    <tr>\n",
       "      <th>4</th>\n",
       "      <td>Paint It, Black</td>\n",
       "      <td>0.804648</td>\n",
       "      <td>1.000000</td>\n",
       "    </tr>\n",
       "    <tr>\n",
       "      <th>5</th>\n",
       "      <td>Sultans Of Swing</td>\n",
       "      <td>0.779548</td>\n",
       "      <td>0.891797</td>\n",
       "    </tr>\n",
       "    <tr>\n",
       "      <th>6</th>\n",
       "      <td>Space Raiders - Charlotte de Witte Remix</td>\n",
       "      <td>0.751594</td>\n",
       "      <td>0.725362</td>\n",
       "    </tr>\n",
       "    <tr>\n",
       "      <th>7</th>\n",
       "      <td>In Silence</td>\n",
       "      <td>0.713347</td>\n",
       "      <td>0.684332</td>\n",
       "    </tr>\n",
       "  </tbody>\n",
       "</table>\n",
       "</div>"
      ],
      "text/plain": [
       "                                           song_name  loudness     tempo\n",
       "1                                The Real Slim Shady  0.971414  0.442503\n",
       "0                                            My Band  1.000000  0.602076\n",
       "8  Wiegenlied, Op. 49, No. 4 (Arr. for Cello and ...  0.000000  0.000484\n",
       "9  Nocturne en mi bémol majeur opus 9 n°2: Ballad...  0.292331  0.000000\n",
       "3                              The Girl From Ipanema  0.554880  0.697799\n",
       "2                                     Águas De Março  0.597610  0.842866\n",
       "4                                    Paint It, Black  0.804648  1.000000\n",
       "5                                   Sultans Of Swing  0.779548  0.891797\n",
       "6           Space Raiders - Charlotte de Witte Remix  0.751594  0.725362\n",
       "7                                         In Silence  0.713347  0.684332"
      ]
     },
     "execution_count": 69,
     "metadata": {},
     "output_type": "execute_result"
    }
   ],
   "source": [
    "scaler = MinMaxScaler(feature_range=(0,1))\n",
    "\n",
    "scaler.fit(df[[\"loudness\"]])\n",
    "df[\"loudness\"] = scaler.transform(df[[\"loudness\"]])\n",
    "\n",
    "\n",
    "scaler.fit(df[[\"tempo\"]])\n",
    "df[\"tempo\"] = scaler.transform(df[[\"tempo\"]])\n",
    "\n",
    "df[[\"song_name\", \"loudness\", \"tempo\"]]"
   ]
  },
  {
   "cell_type": "code",
   "execution_count": 138,
   "metadata": {},
   "outputs": [
    {
     "data": {
      "text/plain": [
       "array([1, 1, 2, 3, 3, 3, 0, 4, 0, 0])"
      ]
     },
     "execution_count": 138,
     "metadata": {},
     "output_type": "execute_result"
    }
   ],
   "source": [
    "model = KMeans(n_clusters=5)\n",
    "\n",
    "y_predicted = model.fit_predict(df[[\"loudness\", \"tempo\"]])\n",
    "\n",
    "df[\"cluster\"] = y_predicted\n",
    "\n",
    "y_predicted\n"
   ]
  },
  {
   "cell_type": "code",
   "execution_count": 139,
   "metadata": {},
   "outputs": [],
   "source": [
    "df1 = df.loc[df.cluster == 0]\n",
    "df2 = df.loc[df.cluster == 1]\n",
    "df3 = df.loc[df.cluster == 2]\n",
    "df4 = df.loc[df.cluster == 3]\n",
    "df5 = df.loc[df.cluster == 4]\n",
    "\n"
   ]
  },
  {
   "cell_type": "code",
   "execution_count": 140,
   "metadata": {},
   "outputs": [
    {
     "data": {
      "text/plain": [
       "<matplotlib.legend.Legend at 0x211b71e7e90>"
      ]
     },
     "execution_count": 140,
     "metadata": {},
     "output_type": "execute_result"
    },
    {
     "data": {
      "image/png": "[encoded data removed]",
      "text/plain": [
       "<Figure size 640x480 with 1 Axes>"
      ]
     },
     "metadata": {},
     "output_type": "display_data"
    }
   ],
   "source": [
    "plt.scatter(df1[\"loudness\"], df1[ \"tempo\"], color = \"green\", label = \"C1\")\n",
    "plt.scatter(df2[\"loudness\"], df2[ \"tempo\"], color = \"red\", label = \"C2\")\n",
    "plt.scatter(df3[\"loudness\"], df3[ \"tempo\"], color = \"blue\", label = \"C3\")\n",
    "plt.scatter(df4[\"loudness\"], df4[ \"tempo\"], color = \"black\", label = \"C4\")\n",
    "plt.scatter(df5[\"loudness\"], df5[ \"tempo\"], color = \"yellow\", label = \"C4\")\n",
    "\n",
    "\n",
    "plt.scatter(model.cluster_centers_[:,0],\n",
    "            model.cluster_centers_[:,1],\n",
    "            color = \"purple\",\n",
    "            marker = \"*\",\n",
    "            label = \"centroid\"\n",
    "            \n",
    "            )\n",
    "\n",
    "plt.legend()"
   ]
  },
  {
   "cell_type": "markdown",
   "metadata": {},
   "source": [
    "# With DBScan"
   ]
  },
  {
   "cell_type": "code",
   "execution_count": 38,
   "metadata": {},
   "outputs": [],
   "source": [
    "import pandas as pd \n",
    "import matplotlib.pyplot as plt \n",
    "\n",
    "from sklearn.cluster import DBSCAN\n",
    "import seaborn as sn\n",
    "\n",
    "from sklearn.preprocessing import MinMaxScaler"
   ]
  },
  {
   "cell_type": "code",
   "execution_count": 58,
   "metadata": {},
   "outputs": [
    {
     "data": {
      "text/plain": [
       "array([-1, -1,  0,  0,  1,  1,  1,  1,  1,  1], dtype=int64)"
      ]
     },
     "execution_count": 58,
     "metadata": {},
     "output_type": "execute_result"
    }
   ],
   "source": [
    "model = DBSCAN(eps= 0.2, min_samples= 2)\n",
    "\n",
    "y_predicted = model.fit_predict(df[[\"loudness\", \"tempo\"]])\n",
    "\n",
    "\n",
    "# Attach the cluster column to df \n",
    "df[\"cluster\"] = y_predicted \n",
    "\n",
    "df.sort_values(\"cluster\", inplace= True)\n",
    "\n",
    "df.head(10)\n",
    "y_predicted"
   ]
  },
  {
   "cell_type": "code",
   "execution_count": null,
   "metadata": {},
   "outputs": [],
   "source": []
  }
 ],
 "metadata": {
  "kernelspec": {
   "display_name": "Python 3.11.7 64-bit",
   "language": "python",
   "name": "python3"
  },
  "language_info": {
   "codemirror_mode": {
    "name": "ipython",
    "version": 3
   },
   "file_extension": ".py",
   "mimetype": "text/x-python",
   "name": "python",
   "nbconvert_exporter": "python",
   "pygments_lexer": "ipython3",
   "version": "3.11.7"
  },
  "vscode": {
   "interpreter": {
    "hash": "9ccc6a538a0da06e903987474074493caf94daa74ed2a90c8f8989e97d2dea89"
   }
  }
 },
 "nbformat": 4,
 "nbformat_minor": 2
}
