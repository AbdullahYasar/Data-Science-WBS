{
 "cells": [
  {
   "cell_type": "markdown",
   "source": [
    "# using orders.csv\n",
    "1. Load the CSV file into a pandas DataFrame. Ensure you parse created_date as a datetime type.\n",
    "2. correct the data types\n",
    "3. Display the first 10 rows of the DataFrame.\n",
    "4. Show the basic information (info) and summary statistics (describe) of the dataset.\n",
    "5. Count the total number of orders in each state (Cancelled, Completed, Pending).\n",
    "6. Find the average total_paid for each state.\n",
    "7. Extract the month and year from created_date and create new columns for them.\n",
    "8. Calculate the total revenue (total_paid) per month.\n",
    "9. Find the average total_paid for orders in each month of 2017.\n",
    "10. Filter the orders that were completed in Q1 of 2017 and calculate their total revenue.\n",
    "11. Export the DataFrame with the month and year columns to a new CSV file.\n",
    "Delivery:\n",
    "Jupyter Notebook (indiv. work)"
   ],
   "metadata": {
    "collapsed": false
   },
   "id": "6ba9e89764443042"
  },
  {
   "cell_type": "code",
   "execution_count": null,
   "id": "initial_id",
   "metadata": {
    "collapsed": true
   },
   "outputs": [],
   "source": [
    "import pandas as pd"
   ]
  },
  {
   "cell_type": "markdown",
   "source": [],
   "metadata": {
    "collapsed": false
   },
   "id": "c2edddd8f37c1ff3"
  },
  {
   "cell_type": "markdown",
   "source": [
    "1. Load the CSV file into a pandas DataFrame. Ensure you parse created_date as a datetime type.\n",
    "2. correct the data types\n",
    "3. Display the first 10 rows of the DataFrame."
   ],
   "metadata": {
    "collapsed": false
   },
   "id": "96f7a0e3e91f4fa9"
  },
  {
   "cell_type": "code",
   "outputs": [],
   "source": [
    "df = pd.read_csv(\"./orders.csv\", delimiter=\",\")\n",
    "df.info()\n",
    "df.head(10)"
   ],
   "metadata": {
    "collapsed": false
   },
   "id": "c48dfab3311a11",
   "execution_count": null
  },
  {
   "cell_type": "code",
   "outputs": [
    {
     "data": {
      "text/plain": "    order_id        created_date  total_paid      state  month  year\n0     241319 2017-01-02 13:35:40       44.99  Cancelled      1  2017\n1     241423 2017-11-06 13:10:02      136.15  Completed     11  2017\n2     242832 2017-12-31 17:40:03       15.76  Completed     12  2017\n3     243330 2017-02-16 10:59:38       84.98  Completed      2  2017\n4     243784 2017-11-24 13:35:19      157.86  Cancelled     11  2017\n5     245275 2017-06-28 11:35:37      149.00  Completed      6  2017\n6     245595 2017-01-21 12:52:47      112.97  Completed      1  2017\n7     245851 2017-04-04 20:58:21       79.99    Pending      4  2017\n8     245941 2017-01-01 10:32:23      183.52  Completed      1  2017\n9     246018 2017-02-13 23:02:57      211.95  Completed      2  2017\n10    246405 2017-11-24 10:01:27      407.96  Completed     11  2017\n11    247524 2018-01-09 14:21:34      167.98  Completed      1  2018\n12    247643 2017-05-26 11:50:35      153.54  Completed      5  2017\n13    250275 2017-11-19 22:34:54       54.99  Completed     11  2017\n14    251302 2017-05-10 12:27:33      140.99  Completed      5  2017\n15    251688 2017-11-24 23:57:07      505.76  Completed     11  2017\n16    251969 2017-11-21 21:04:12      610.07  Completed     11  2017\n17    252371 2017-02-09 12:31:57       27.98    Pending      2  2017\n18    253220 2017-10-04 19:37:10     1610.00  Completed     10  2017\n19    253306 2017-10-04 14:14:45      497.68  Completed     10  2017",
      "text/html": "<div>\n<style scoped>\n    .dataframe tbody tr th:only-of-type {\n        vertical-align: middle;\n    }\n\n    .dataframe tbody tr th {\n        vertical-align: top;\n    }\n\n    .dataframe thead th {\n        text-align: right;\n    }\n</style>\n<table border=\"1\" class=\"dataframe\">\n  <thead>\n    <tr style=\"text-align: right;\">\n      <th></th>\n      <th>order_id</th>\n      <th>created_date</th>\n      <th>total_paid</th>\n      <th>state</th>\n      <th>month</th>\n      <th>year</th>\n    </tr>\n  </thead>\n  <tbody>\n    <tr>\n      <th>0</th>\n      <td>241319</td>\n      <td>2017-01-02 13:35:40</td>\n      <td>44.99</td>\n      <td>Cancelled</td>\n      <td>1</td>\n      <td>2017</td>\n    </tr>\n    <tr>\n      <th>1</th>\n      <td>241423</td>\n      <td>2017-11-06 13:10:02</td>\n      <td>136.15</td>\n      <td>Completed</td>\n      <td>11</td>\n      <td>2017</td>\n    </tr>\n    <tr>\n      <th>2</th>\n      <td>242832</td>\n      <td>2017-12-31 17:40:03</td>\n      <td>15.76</td>\n      <td>Completed</td>\n      <td>12</td>\n      <td>2017</td>\n    </tr>\n    <tr>\n      <th>3</th>\n      <td>243330</td>\n      <td>2017-02-16 10:59:38</td>\n      <td>84.98</td>\n      <td>Completed</td>\n      <td>2</td>\n      <td>2017</td>\n    </tr>\n    <tr>\n      <th>4</th>\n      <td>243784</td>\n      <td>2017-11-24 13:35:19</td>\n      <td>157.86</td>\n      <td>Cancelled</td>\n      <td>11</td>\n      <td>2017</td>\n    </tr>\n    <tr>\n      <th>5</th>\n      <td>245275</td>\n      <td>2017-06-28 11:35:37</td>\n      <td>149.00</td>\n      <td>Completed</td>\n      <td>6</td>\n      <td>2017</td>\n    </tr>\n    <tr>\n      <th>6</th>\n      <td>245595</td>\n      <td>2017-01-21 12:52:47</td>\n      <td>112.97</td>\n      <td>Completed</td>\n      <td>1</td>\n      <td>2017</td>\n    </tr>\n    <tr>\n      <th>7</th>\n      <td>245851</td>\n      <td>2017-04-04 20:58:21</td>\n      <td>79.99</td>\n      <td>Pending</td>\n      <td>4</td>\n      <td>2017</td>\n    </tr>\n    <tr>\n      <th>8</th>\n      <td>245941</td>\n      <td>2017-01-01 10:32:23</td>\n      <td>183.52</td>\n      <td>Completed</td>\n      <td>1</td>\n      <td>2017</td>\n    </tr>\n    <tr>\n      <th>9</th>\n      <td>246018</td>\n      <td>2017-02-13 23:02:57</td>\n      <td>211.95</td>\n      <td>Completed</td>\n      <td>2</td>\n      <td>2017</td>\n    </tr>\n    <tr>\n      <th>10</th>\n      <td>246405</td>\n      <td>2017-11-24 10:01:27</td>\n      <td>407.96</td>\n      <td>Completed</td>\n      <td>11</td>\n      <td>2017</td>\n    </tr>\n    <tr>\n      <th>11</th>\n      <td>247524</td>\n      <td>2018-01-09 14:21:34</td>\n      <td>167.98</td>\n      <td>Completed</td>\n      <td>1</td>\n      <td>2018</td>\n    </tr>\n    <tr>\n      <th>12</th>\n      <td>247643</td>\n      <td>2017-05-26 11:50:35</td>\n      <td>153.54</td>\n      <td>Completed</td>\n      <td>5</td>\n      <td>2017</td>\n    </tr>\n    <tr>\n      <th>13</th>\n      <td>250275</td>\n      <td>2017-11-19 22:34:54</td>\n      <td>54.99</td>\n      <td>Completed</td>\n      <td>11</td>\n      <td>2017</td>\n    </tr>\n    <tr>\n      <th>14</th>\n      <td>251302</td>\n      <td>2017-05-10 12:27:33</td>\n      <td>140.99</td>\n      <td>Completed</td>\n      <td>5</td>\n      <td>2017</td>\n    </tr>\n    <tr>\n      <th>15</th>\n      <td>251688</td>\n      <td>2017-11-24 23:57:07</td>\n      <td>505.76</td>\n      <td>Completed</td>\n      <td>11</td>\n      <td>2017</td>\n    </tr>\n    <tr>\n      <th>16</th>\n      <td>251969</td>\n      <td>2017-11-21 21:04:12</td>\n      <td>610.07</td>\n      <td>Completed</td>\n      <td>11</td>\n      <td>2017</td>\n    </tr>\n    <tr>\n      <th>17</th>\n      <td>252371</td>\n      <td>2017-02-09 12:31:57</td>\n      <td>27.98</td>\n      <td>Pending</td>\n      <td>2</td>\n      <td>2017</td>\n    </tr>\n    <tr>\n      <th>18</th>\n      <td>253220</td>\n      <td>2017-10-04 19:37:10</td>\n      <td>1610.00</td>\n      <td>Completed</td>\n      <td>10</td>\n      <td>2017</td>\n    </tr>\n    <tr>\n      <th>19</th>\n      <td>253306</td>\n      <td>2017-10-04 14:14:45</td>\n      <td>497.68</td>\n      <td>Completed</td>\n      <td>10</td>\n      <td>2017</td>\n    </tr>\n  </tbody>\n</table>\n</div>"
     },
     "execution_count": 45,
     "metadata": {},
     "output_type": "execute_result"
    }
   ],
   "source": [
    "df[\"created_date\"] = pd.to_datetime(df[\"created_date\"], errors  =\"coerce\")\n",
    "df.head(20)"
   ],
   "metadata": {
    "collapsed": false,
    "ExecuteTime": {
     "end_time": "2024-02-23T14:51:26.401867200Z",
     "start_time": "2024-02-23T14:51:26.386343900Z"
    }
   },
   "id": "63cd538d9287edc",
   "execution_count": 45
  },
  {
   "cell_type": "markdown",
   "source": [],
   "metadata": {
    "collapsed": false
   },
   "id": "bb524d9af2c1dfe2"
  },
  {
   "cell_type": "markdown",
   "source": [
    "## 4. Show the basic information (info) and summary statistics (describe) of the dataset.\n"
   ],
   "metadata": {
    "collapsed": false
   },
   "id": "6f05f7bc31a35ebb"
  },
  {
   "cell_type": "code",
   "outputs": [],
   "source": [
    "df.info()\n",
    "df.describe()"
   ],
   "metadata": {
    "collapsed": false
   },
   "id": "3ac3606a590326b7",
   "execution_count": null
  },
  {
   "cell_type": "markdown",
   "source": [],
   "metadata": {
    "collapsed": false
   },
   "id": "be0483ac1a5215cd"
  },
  {
   "cell_type": "markdown",
   "source": [
    "## 5. Count the total number of orders in each state (Cancelled, Completed, Pending)."
   ],
   "metadata": {
    "collapsed": false
   },
   "id": "8d05bd4e0bceee97"
  },
  {
   "cell_type": "code",
   "outputs": [],
   "source": [
    "groups = df.groupby(\"state\")\n",
    "groups.size()"
   ],
   "metadata": {
    "collapsed": false
   },
   "id": "efe040722901d4c0",
   "execution_count": null
  },
  {
   "cell_type": "markdown",
   "source": [],
   "metadata": {
    "collapsed": false
   },
   "id": "f3e1ff46ea15c896"
  },
  {
   "cell_type": "markdown",
   "source": [
    "## 6. Find the average total_paid for each state.\n"
   ],
   "metadata": {
    "collapsed": false
   },
   "id": "f832267beb7dde6a"
  },
  {
   "cell_type": "code",
   "outputs": [
    {
     "data": {
      "text/plain": "                 total_paid\nstate                      \nCancelled        766.738125\nCompleted        341.381381\nPending          327.208899\nPlace Order      417.969775\nShopping Basket  729.252943",
      "text/html": "<div>\n<style scoped>\n    .dataframe tbody tr th:only-of-type {\n        vertical-align: middle;\n    }\n\n    .dataframe tbody tr th {\n        vertical-align: top;\n    }\n\n    .dataframe thead th {\n        text-align: right;\n    }\n</style>\n<table border=\"1\" class=\"dataframe\">\n  <thead>\n    <tr style=\"text-align: right;\">\n      <th></th>\n      <th>total_paid</th>\n    </tr>\n    <tr>\n      <th>state</th>\n      <th></th>\n    </tr>\n  </thead>\n  <tbody>\n    <tr>\n      <th>Cancelled</th>\n      <td>766.738125</td>\n    </tr>\n    <tr>\n      <th>Completed</th>\n      <td>341.381381</td>\n    </tr>\n    <tr>\n      <th>Pending</th>\n      <td>327.208899</td>\n    </tr>\n    <tr>\n      <th>Place Order</th>\n      <td>417.969775</td>\n    </tr>\n    <tr>\n      <th>Shopping Basket</th>\n      <td>729.252943</td>\n    </tr>\n  </tbody>\n</table>\n</div>"
     },
     "execution_count": 40,
     "metadata": {},
     "output_type": "execute_result"
    }
   ],
   "source": [
    "results = groups.agg({\"total_paid\":\"mean\"})\n",
    "results"
   ],
   "metadata": {
    "collapsed": false,
    "ExecuteTime": {
     "end_time": "2024-02-23T14:45:02.387836800Z",
     "start_time": "2024-02-23T14:45:02.377886300Z"
    }
   },
   "id": "ccd949afdd953f25",
   "execution_count": 40
  },
  {
   "cell_type": "markdown",
   "source": [],
   "metadata": {
    "collapsed": false
   },
   "id": "28fb441609c8511"
  },
  {
   "cell_type": "markdown",
   "source": [
    "## 7. Extract the month and year from created_date and create new columns for them."
   ],
   "metadata": {
    "collapsed": false
   },
   "id": "712c6f30569204a7"
  },
  {
   "cell_type": "code",
   "outputs": [
    {
     "data": {
      "text/plain": "   order_id        created_date  total_paid      state  month  year\n0    241319 2017-01-02 13:35:40       44.99  Cancelled      1  2017\n1    241423 2017-11-06 13:10:02      136.15  Completed     11  2017\n2    242832 2017-12-31 17:40:03       15.76  Completed     12  2017\n3    243330 2017-02-16 10:59:38       84.98  Completed      2  2017\n4    243784 2017-11-24 13:35:19      157.86  Cancelled     11  2017",
      "text/html": "<div>\n<style scoped>\n    .dataframe tbody tr th:only-of-type {\n        vertical-align: middle;\n    }\n\n    .dataframe tbody tr th {\n        vertical-align: top;\n    }\n\n    .dataframe thead th {\n        text-align: right;\n    }\n</style>\n<table border=\"1\" class=\"dataframe\">\n  <thead>\n    <tr style=\"text-align: right;\">\n      <th></th>\n      <th>order_id</th>\n      <th>created_date</th>\n      <th>total_paid</th>\n      <th>state</th>\n      <th>month</th>\n      <th>year</th>\n    </tr>\n  </thead>\n  <tbody>\n    <tr>\n      <th>0</th>\n      <td>241319</td>\n      <td>2017-01-02 13:35:40</td>\n      <td>44.99</td>\n      <td>Cancelled</td>\n      <td>1</td>\n      <td>2017</td>\n    </tr>\n    <tr>\n      <th>1</th>\n      <td>241423</td>\n      <td>2017-11-06 13:10:02</td>\n      <td>136.15</td>\n      <td>Completed</td>\n      <td>11</td>\n      <td>2017</td>\n    </tr>\n    <tr>\n      <th>2</th>\n      <td>242832</td>\n      <td>2017-12-31 17:40:03</td>\n      <td>15.76</td>\n      <td>Completed</td>\n      <td>12</td>\n      <td>2017</td>\n    </tr>\n    <tr>\n      <th>3</th>\n      <td>243330</td>\n      <td>2017-02-16 10:59:38</td>\n      <td>84.98</td>\n      <td>Completed</td>\n      <td>2</td>\n      <td>2017</td>\n    </tr>\n    <tr>\n      <th>4</th>\n      <td>243784</td>\n      <td>2017-11-24 13:35:19</td>\n      <td>157.86</td>\n      <td>Cancelled</td>\n      <td>11</td>\n      <td>2017</td>\n    </tr>\n  </tbody>\n</table>\n</div>"
     },
     "execution_count": 41,
     "metadata": {},
     "output_type": "execute_result"
    }
   ],
   "source": [
    "df[\"created_date\"] = pd.to_datetime(df[\"created_date\"], errors  =\"coerce\")\n",
    "df[\"month\"] = df[\"created_date\"].dt.month\n",
    "df[\"year\"] = df[\"created_date\"].dt.year\n",
    "\n",
    "df.head()"
   ],
   "metadata": {
    "collapsed": false,
    "ExecuteTime": {
     "end_time": "2024-02-23T14:47:40.262488Z",
     "start_time": "2024-02-23T14:47:40.214093200Z"
    }
   },
   "id": "36e0c4658b7ab9b6",
   "execution_count": 41
  },
  {
   "cell_type": "markdown",
   "source": [],
   "metadata": {
    "collapsed": false
   },
   "id": "5df71937a46bd093"
  },
  {
   "cell_type": "markdown",
   "source": [
    "## 8. Calculate the total revenue (total_paid) per month."
   ],
   "metadata": {
    "collapsed": false
   },
   "id": "6652ebfd56bb9d80"
  },
  {
   "cell_type": "code",
   "outputs": [
    {
     "data": {
      "text/plain": "        total_paid\nmonth             \n1      26714357.53\n2      15215328.97\n3      12306146.50\n4       4346977.33\n5       4192663.00\n6       5420121.10\n7       6059333.83\n8       4347651.57\n9       5698729.41\n10      6567947.29\n11     20342856.85\n12     17947501.69",
      "text/html": "<div>\n<style scoped>\n    .dataframe tbody tr th:only-of-type {\n        vertical-align: middle;\n    }\n\n    .dataframe tbody tr th {\n        vertical-align: top;\n    }\n\n    .dataframe thead th {\n        text-align: right;\n    }\n</style>\n<table border=\"1\" class=\"dataframe\">\n  <thead>\n    <tr style=\"text-align: right;\">\n      <th></th>\n      <th>total_paid</th>\n    </tr>\n    <tr>\n      <th>month</th>\n      <th></th>\n    </tr>\n  </thead>\n  <tbody>\n    <tr>\n      <th>1</th>\n      <td>26714357.53</td>\n    </tr>\n    <tr>\n      <th>2</th>\n      <td>15215328.97</td>\n    </tr>\n    <tr>\n      <th>3</th>\n      <td>12306146.50</td>\n    </tr>\n    <tr>\n      <th>4</th>\n      <td>4346977.33</td>\n    </tr>\n    <tr>\n      <th>5</th>\n      <td>4192663.00</td>\n    </tr>\n    <tr>\n      <th>6</th>\n      <td>5420121.10</td>\n    </tr>\n    <tr>\n      <th>7</th>\n      <td>6059333.83</td>\n    </tr>\n    <tr>\n      <th>8</th>\n      <td>4347651.57</td>\n    </tr>\n    <tr>\n      <th>9</th>\n      <td>5698729.41</td>\n    </tr>\n    <tr>\n      <th>10</th>\n      <td>6567947.29</td>\n    </tr>\n    <tr>\n      <th>11</th>\n      <td>20342856.85</td>\n    </tr>\n    <tr>\n      <th>12</th>\n      <td>17947501.69</td>\n    </tr>\n  </tbody>\n</table>\n</div>"
     },
     "execution_count": 50,
     "metadata": {},
     "output_type": "execute_result"
    }
   ],
   "source": [
    "groups = df.groupby(\"month\")\n",
    "\n",
    "results2 = groups.agg({\"total_paid\":\"sum\"})\n",
    "results2"
   ],
   "metadata": {
    "collapsed": false,
    "ExecuteTime": {
     "end_time": "2024-02-23T14:55:27.310087Z",
     "start_time": "2024-02-23T14:55:27.284366100Z"
    }
   },
   "id": "2bcc0dc81998a038",
   "execution_count": 50
  },
  {
   "cell_type": "markdown",
   "source": [],
   "metadata": {
    "collapsed": false
   },
   "id": "7a493c08170ed8c2"
  },
  {
   "cell_type": "markdown",
   "source": [
    "## 9. Find the average total_paid for orders in each month of 2017."
   ],
   "metadata": {
    "collapsed": false
   },
   "id": "7aa2f2575d3d64"
  },
  {
   "cell_type": "code",
   "outputs": [
    {
     "data": {
      "text/plain": "       total_paid\nmonth            \n1      607.434401\n2      543.443423\n3      648.203661\n4      437.189714\n5      435.329976\n6      546.383175\n7      438.161388\n8      420.184746\n9      494.123767\n10     476.007196\n11     640.235943\n12     713.136317",
      "text/html": "<div>\n<style scoped>\n    .dataframe tbody tr th:only-of-type {\n        vertical-align: middle;\n    }\n\n    .dataframe tbody tr th {\n        vertical-align: top;\n    }\n\n    .dataframe thead th {\n        text-align: right;\n    }\n</style>\n<table border=\"1\" class=\"dataframe\">\n  <thead>\n    <tr style=\"text-align: right;\">\n      <th></th>\n      <th>total_paid</th>\n    </tr>\n    <tr>\n      <th>month</th>\n      <th></th>\n    </tr>\n  </thead>\n  <tbody>\n    <tr>\n      <th>1</th>\n      <td>607.434401</td>\n    </tr>\n    <tr>\n      <th>2</th>\n      <td>543.443423</td>\n    </tr>\n    <tr>\n      <th>3</th>\n      <td>648.203661</td>\n    </tr>\n    <tr>\n      <th>4</th>\n      <td>437.189714</td>\n    </tr>\n    <tr>\n      <th>5</th>\n      <td>435.329976</td>\n    </tr>\n    <tr>\n      <th>6</th>\n      <td>546.383175</td>\n    </tr>\n    <tr>\n      <th>7</th>\n      <td>438.161388</td>\n    </tr>\n    <tr>\n      <th>8</th>\n      <td>420.184746</td>\n    </tr>\n    <tr>\n      <th>9</th>\n      <td>494.123767</td>\n    </tr>\n    <tr>\n      <th>10</th>\n      <td>476.007196</td>\n    </tr>\n    <tr>\n      <th>11</th>\n      <td>640.235943</td>\n    </tr>\n    <tr>\n      <th>12</th>\n      <td>713.136317</td>\n    </tr>\n  </tbody>\n</table>\n</div>"
     },
     "execution_count": 51,
     "metadata": {},
     "output_type": "execute_result"
    }
   ],
   "source": [
    "groups = df.groupby(\"month\")\n",
    "\n",
    "results2 = groups.agg({\"total_paid\":\"mean\"})\n",
    "results2"
   ],
   "metadata": {
    "collapsed": false,
    "ExecuteTime": {
     "end_time": "2024-02-23T14:57:00.542368300Z",
     "start_time": "2024-02-23T14:57:00.518231Z"
    }
   },
   "id": "ccd655dcbcab0aa9",
   "execution_count": 51
  },
  {
   "cell_type": "markdown",
   "source": [],
   "metadata": {
    "collapsed": false
   },
   "id": "a8bf43900151f120"
  },
  {
   "cell_type": "markdown",
   "source": [],
   "metadata": {
    "collapsed": false
   },
   "id": "c4ac05836b34ba61"
  },
  {
   "cell_type": "markdown",
   "source": [
    "## 10. Filter the orders that were completed in Q1 of 2017 and calculate their total revenue."
   ],
   "metadata": {
    "collapsed": false
   },
   "id": "484179b657a72bb"
  },
  {
   "cell_type": "code",
   "outputs": [
    {
     "data": {
      "text/plain": "total_paid    15652804.94\ndtype: float64"
     },
     "execution_count": 54,
     "metadata": {},
     "output_type": "execute_result"
    }
   ],
   "source": [
    "df[\"quarter\"] = df[\"created_date\"].dt.quarter\n",
    "\n",
    "results3 = df.loc[(df[\"quarter\"] == 1)    &   (df[\"year\"] == 2017)]\n",
    "results3\n",
    "\n",
    "results3.agg({\"total_paid\":\"sum\"})"
   ],
   "metadata": {
    "collapsed": false,
    "ExecuteTime": {
     "end_time": "2024-02-23T15:06:21.639441400Z",
     "start_time": "2024-02-23T15:06:21.612518Z"
    }
   },
   "id": "ef16acb98a6dbe61",
   "execution_count": 54
  },
  {
   "cell_type": "markdown",
   "source": [],
   "metadata": {
    "collapsed": false
   },
   "id": "d219fdf41082e586"
  },
  {
   "cell_type": "markdown",
   "source": [
    "## 11. Export the DataFrame with the month and year columns to a new CSV file."
   ],
   "metadata": {
    "collapsed": false
   },
   "id": "2e17677f98dcf8ca"
  },
  {
   "cell_type": "code",
   "outputs": [
    {
     "data": {
      "text/plain": "   order_id        created_date  total_paid      state  month  year  quarter\n0    241319 2017-01-02 13:35:40       44.99  Cancelled      1  2017        1\n1    241423 2017-11-06 13:10:02      136.15  Completed     11  2017        4\n2    242832 2017-12-31 17:40:03       15.76  Completed     12  2017        4\n3    243330 2017-02-16 10:59:38       84.98  Completed      2  2017        1\n4    243784 2017-11-24 13:35:19      157.86  Cancelled     11  2017        4",
      "text/html": "<div>\n<style scoped>\n    .dataframe tbody tr th:only-of-type {\n        vertical-align: middle;\n    }\n\n    .dataframe tbody tr th {\n        vertical-align: top;\n    }\n\n    .dataframe thead th {\n        text-align: right;\n    }\n</style>\n<table border=\"1\" class=\"dataframe\">\n  <thead>\n    <tr style=\"text-align: right;\">\n      <th></th>\n      <th>order_id</th>\n      <th>created_date</th>\n      <th>total_paid</th>\n      <th>state</th>\n      <th>month</th>\n      <th>year</th>\n      <th>quarter</th>\n    </tr>\n  </thead>\n  <tbody>\n    <tr>\n      <th>0</th>\n      <td>241319</td>\n      <td>2017-01-02 13:35:40</td>\n      <td>44.99</td>\n      <td>Cancelled</td>\n      <td>1</td>\n      <td>2017</td>\n      <td>1</td>\n    </tr>\n    <tr>\n      <th>1</th>\n      <td>241423</td>\n      <td>2017-11-06 13:10:02</td>\n      <td>136.15</td>\n      <td>Completed</td>\n      <td>11</td>\n      <td>2017</td>\n      <td>4</td>\n    </tr>\n    <tr>\n      <th>2</th>\n      <td>242832</td>\n      <td>2017-12-31 17:40:03</td>\n      <td>15.76</td>\n      <td>Completed</td>\n      <td>12</td>\n      <td>2017</td>\n      <td>4</td>\n    </tr>\n    <tr>\n      <th>3</th>\n      <td>243330</td>\n      <td>2017-02-16 10:59:38</td>\n      <td>84.98</td>\n      <td>Completed</td>\n      <td>2</td>\n      <td>2017</td>\n      <td>1</td>\n    </tr>\n    <tr>\n      <th>4</th>\n      <td>243784</td>\n      <td>2017-11-24 13:35:19</td>\n      <td>157.86</td>\n      <td>Cancelled</td>\n      <td>11</td>\n      <td>2017</td>\n      <td>4</td>\n    </tr>\n  </tbody>\n</table>\n</div>"
     },
     "execution_count": 56,
     "metadata": {},
     "output_type": "execute_result"
    }
   ],
   "source": [
    "df.drop(columns=[\"quarter\"])\n",
    "df.head()\n"
   ],
   "metadata": {
    "collapsed": false,
    "ExecuteTime": {
     "end_time": "2024-02-23T15:10:15.320693100Z",
     "start_time": "2024-02-23T15:10:15.291290800Z"
    }
   },
   "id": "165616378f3e782e",
   "execution_count": 56
  },
  {
   "cell_type": "code",
   "outputs": [],
   "source": [
    "df_new = df\n",
    "\n",
    "df_new.to_csv(\"output.csv\", index=False) "
   ],
   "metadata": {
    "collapsed": false,
    "ExecuteTime": {
     "end_time": "2024-02-23T15:12:39.744417500Z",
     "start_time": "2024-02-23T15:12:38.790735400Z"
    }
   },
   "id": "d820085e1087b7fd",
   "execution_count": 57
  },
  {
   "cell_type": "code",
   "outputs": [],
   "source": [],
   "metadata": {
    "collapsed": false
   },
   "id": "581d81f4988557b"
  }
 ],
 "metadata": {
  "kernelspec": {
   "display_name": "Python 3",
   "language": "python",
   "name": "python3"
  },
  "language_info": {
   "codemirror_mode": {
    "name": "ipython",
    "version": 2
   },
   "file_extension": ".py",
   "mimetype": "text/x-python",
   "name": "python",
   "nbconvert_exporter": "python",
   "pygments_lexer": "ipython2",
   "version": "2.7.6"
  }
 },
 "nbformat": 4,
 "nbformat_minor": 5
}
